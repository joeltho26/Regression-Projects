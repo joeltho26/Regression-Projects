{
 "cells": [
  {
   "cell_type": "code",
   "execution_count": 117,
   "metadata": {},
   "outputs": [],
   "source": [
    "import numpy as np\n",
    "import matplotlib.pyplot as plt\n",
    "import pandas as pd\n",
    "%matplotlib inline"
   ]
  },
  {
   "cell_type": "code",
   "execution_count": 118,
   "metadata": {},
   "outputs": [
    {
     "data": {
      "text/html": [
       "<div>\n",
       "<style scoped>\n",
       "    .dataframe tbody tr th:only-of-type {\n",
       "        vertical-align: middle;\n",
       "    }\n",
       "\n",
       "    .dataframe tbody tr th {\n",
       "        vertical-align: top;\n",
       "    }\n",
       "\n",
       "    .dataframe thead th {\n",
       "        text-align: right;\n",
       "    }\n",
       "</style>\n",
       "<table border=\"1\" class=\"dataframe\">\n",
       "  <thead>\n",
       "    <tr style=\"text-align: right;\">\n",
       "      <th></th>\n",
       "      <th>R&amp;D Spend</th>\n",
       "      <th>Administration</th>\n",
       "      <th>Marketing Spend</th>\n",
       "      <th>State</th>\n",
       "      <th>Profit</th>\n",
       "    </tr>\n",
       "  </thead>\n",
       "  <tbody>\n",
       "    <tr>\n",
       "      <th>0</th>\n",
       "      <td>165349.20</td>\n",
       "      <td>136897.80</td>\n",
       "      <td>471784.10</td>\n",
       "      <td>New York</td>\n",
       "      <td>192261.83</td>\n",
       "    </tr>\n",
       "    <tr>\n",
       "      <th>1</th>\n",
       "      <td>162597.70</td>\n",
       "      <td>151377.59</td>\n",
       "      <td>443898.53</td>\n",
       "      <td>California</td>\n",
       "      <td>191792.06</td>\n",
       "    </tr>\n",
       "    <tr>\n",
       "      <th>2</th>\n",
       "      <td>153441.51</td>\n",
       "      <td>101145.55</td>\n",
       "      <td>407934.54</td>\n",
       "      <td>Florida</td>\n",
       "      <td>191050.39</td>\n",
       "    </tr>\n",
       "    <tr>\n",
       "      <th>3</th>\n",
       "      <td>144372.41</td>\n",
       "      <td>118671.85</td>\n",
       "      <td>383199.62</td>\n",
       "      <td>New York</td>\n",
       "      <td>182901.99</td>\n",
       "    </tr>\n",
       "    <tr>\n",
       "      <th>4</th>\n",
       "      <td>142107.34</td>\n",
       "      <td>91391.77</td>\n",
       "      <td>366168.42</td>\n",
       "      <td>Florida</td>\n",
       "      <td>166187.94</td>\n",
       "    </tr>\n",
       "  </tbody>\n",
       "</table>\n",
       "</div>"
      ],
      "text/plain": [
       "   R&D Spend  Administration  Marketing Spend       State     Profit\n",
       "0  165349.20       136897.80        471784.10    New York  192261.83\n",
       "1  162597.70       151377.59        443898.53  California  191792.06\n",
       "2  153441.51       101145.55        407934.54     Florida  191050.39\n",
       "3  144372.41       118671.85        383199.62    New York  182901.99\n",
       "4  142107.34        91391.77        366168.42     Florida  166187.94"
      ]
     },
     "execution_count": 118,
     "metadata": {},
     "output_type": "execute_result"
    }
   ],
   "source": [
    "df = pd.read_csv('data/Startups_Expense.csv', delimiter=',')\n",
    "df.head(5)"
   ]
  },
  {
   "cell_type": "code",
   "execution_count": 119,
   "metadata": {},
   "outputs": [
    {
     "data": {
      "text/html": [
       "<div>\n",
       "<style scoped>\n",
       "    .dataframe tbody tr th:only-of-type {\n",
       "        vertical-align: middle;\n",
       "    }\n",
       "\n",
       "    .dataframe tbody tr th {\n",
       "        vertical-align: top;\n",
       "    }\n",
       "\n",
       "    .dataframe thead th {\n",
       "        text-align: right;\n",
       "    }\n",
       "</style>\n",
       "<table border=\"1\" class=\"dataframe\">\n",
       "  <thead>\n",
       "    <tr style=\"text-align: right;\">\n",
       "      <th></th>\n",
       "      <th>R&amp;D Spend</th>\n",
       "      <th>Administration</th>\n",
       "      <th>Marketing Spend</th>\n",
       "      <th>Profit</th>\n",
       "    </tr>\n",
       "  </thead>\n",
       "  <tbody>\n",
       "    <tr>\n",
       "      <th>count</th>\n",
       "      <td>50.000000</td>\n",
       "      <td>50.000000</td>\n",
       "      <td>50.000000</td>\n",
       "      <td>50.000000</td>\n",
       "    </tr>\n",
       "    <tr>\n",
       "      <th>mean</th>\n",
       "      <td>73721.615600</td>\n",
       "      <td>121344.639600</td>\n",
       "      <td>211025.097800</td>\n",
       "      <td>112012.639200</td>\n",
       "    </tr>\n",
       "    <tr>\n",
       "      <th>std</th>\n",
       "      <td>45902.256482</td>\n",
       "      <td>28017.802755</td>\n",
       "      <td>122290.310726</td>\n",
       "      <td>40306.180338</td>\n",
       "    </tr>\n",
       "    <tr>\n",
       "      <th>min</th>\n",
       "      <td>0.000000</td>\n",
       "      <td>51283.140000</td>\n",
       "      <td>0.000000</td>\n",
       "      <td>14681.400000</td>\n",
       "    </tr>\n",
       "    <tr>\n",
       "      <th>25%</th>\n",
       "      <td>39936.370000</td>\n",
       "      <td>103730.875000</td>\n",
       "      <td>129300.132500</td>\n",
       "      <td>90138.902500</td>\n",
       "    </tr>\n",
       "    <tr>\n",
       "      <th>50%</th>\n",
       "      <td>73051.080000</td>\n",
       "      <td>122699.795000</td>\n",
       "      <td>212716.240000</td>\n",
       "      <td>107978.190000</td>\n",
       "    </tr>\n",
       "    <tr>\n",
       "      <th>75%</th>\n",
       "      <td>101602.800000</td>\n",
       "      <td>144842.180000</td>\n",
       "      <td>299469.085000</td>\n",
       "      <td>139765.977500</td>\n",
       "    </tr>\n",
       "    <tr>\n",
       "      <th>max</th>\n",
       "      <td>165349.200000</td>\n",
       "      <td>182645.560000</td>\n",
       "      <td>471784.100000</td>\n",
       "      <td>192261.830000</td>\n",
       "    </tr>\n",
       "  </tbody>\n",
       "</table>\n",
       "</div>"
      ],
      "text/plain": [
       "           R&D Spend  Administration  Marketing Spend         Profit\n",
       "count      50.000000       50.000000        50.000000      50.000000\n",
       "mean    73721.615600   121344.639600    211025.097800  112012.639200\n",
       "std     45902.256482    28017.802755    122290.310726   40306.180338\n",
       "min         0.000000    51283.140000         0.000000   14681.400000\n",
       "25%     39936.370000   103730.875000    129300.132500   90138.902500\n",
       "50%     73051.080000   122699.795000    212716.240000  107978.190000\n",
       "75%    101602.800000   144842.180000    299469.085000  139765.977500\n",
       "max    165349.200000   182645.560000    471784.100000  192261.830000"
      ]
     },
     "execution_count": 119,
     "metadata": {},
     "output_type": "execute_result"
    }
   ],
   "source": [
    "df.describe()"
   ]
  },
  {
   "cell_type": "code",
   "execution_count": 120,
   "metadata": {},
   "outputs": [
    {
     "data": {
      "text/plain": [
       "R&D Spend          0\n",
       "Administration     0\n",
       "Marketing Spend    0\n",
       "State              0\n",
       "Profit             0\n",
       "dtype: int64"
      ]
     },
     "execution_count": 120,
     "metadata": {},
     "output_type": "execute_result"
    }
   ],
   "source": [
    "df.isnull().sum()"
   ]
  },
  {
   "cell_type": "code",
   "execution_count": 121,
   "metadata": {},
   "outputs": [],
   "source": [
    "x = df.iloc[:,:-1]\n",
    "y = df.iloc[:,-1]"
   ]
  },
  {
   "cell_type": "code",
   "execution_count": 122,
   "metadata": {},
   "outputs": [],
   "source": [
    "state = pd.get_dummies(df['State'], drop_first=True)\n",
    "df = pd.concat([x, state], axis=1)"
   ]
  },
  {
   "cell_type": "code",
   "execution_count": 123,
   "metadata": {},
   "outputs": [
    {
     "data": {
      "text/html": [
       "<div>\n",
       "<style scoped>\n",
       "    .dataframe tbody tr th:only-of-type {\n",
       "        vertical-align: middle;\n",
       "    }\n",
       "\n",
       "    .dataframe tbody tr th {\n",
       "        vertical-align: top;\n",
       "    }\n",
       "\n",
       "    .dataframe thead th {\n",
       "        text-align: right;\n",
       "    }\n",
       "</style>\n",
       "<table border=\"1\" class=\"dataframe\">\n",
       "  <thead>\n",
       "    <tr style=\"text-align: right;\">\n",
       "      <th></th>\n",
       "      <th>R&amp;D Spend</th>\n",
       "      <th>Administration</th>\n",
       "      <th>Marketing Spend</th>\n",
       "      <th>Florida</th>\n",
       "      <th>New York</th>\n",
       "    </tr>\n",
       "  </thead>\n",
       "  <tbody>\n",
       "    <tr>\n",
       "      <th>0</th>\n",
       "      <td>165349.20</td>\n",
       "      <td>136897.80</td>\n",
       "      <td>471784.10</td>\n",
       "      <td>False</td>\n",
       "      <td>True</td>\n",
       "    </tr>\n",
       "    <tr>\n",
       "      <th>1</th>\n",
       "      <td>162597.70</td>\n",
       "      <td>151377.59</td>\n",
       "      <td>443898.53</td>\n",
       "      <td>False</td>\n",
       "      <td>False</td>\n",
       "    </tr>\n",
       "    <tr>\n",
       "      <th>2</th>\n",
       "      <td>153441.51</td>\n",
       "      <td>101145.55</td>\n",
       "      <td>407934.54</td>\n",
       "      <td>True</td>\n",
       "      <td>False</td>\n",
       "    </tr>\n",
       "    <tr>\n",
       "      <th>3</th>\n",
       "      <td>144372.41</td>\n",
       "      <td>118671.85</td>\n",
       "      <td>383199.62</td>\n",
       "      <td>False</td>\n",
       "      <td>True</td>\n",
       "    </tr>\n",
       "    <tr>\n",
       "      <th>4</th>\n",
       "      <td>142107.34</td>\n",
       "      <td>91391.77</td>\n",
       "      <td>366168.42</td>\n",
       "      <td>True</td>\n",
       "      <td>False</td>\n",
       "    </tr>\n",
       "  </tbody>\n",
       "</table>\n",
       "</div>"
      ],
      "text/plain": [
       "   R&D Spend  Administration  Marketing Spend  Florida  New York\n",
       "0  165349.20       136897.80        471784.10    False      True\n",
       "1  162597.70       151377.59        443898.53    False     False\n",
       "2  153441.51       101145.55        407934.54     True     False\n",
       "3  144372.41       118671.85        383199.62    False      True\n",
       "4  142107.34        91391.77        366168.42     True     False"
      ]
     },
     "execution_count": 123,
     "metadata": {},
     "output_type": "execute_result"
    }
   ],
   "source": [
    "df = df.drop(columns=['State'])\n",
    "df.head(5)"
   ]
  },
  {
   "cell_type": "code",
   "execution_count": 124,
   "metadata": {},
   "outputs": [],
   "source": [
    "from sklearn.model_selection import train_test_split\n",
    "x_train, x_test, y_train, y_test = train_test_split(df, y, test_size=0.2, random_state=42)"
   ]
  },
  {
   "cell_type": "code",
   "execution_count": 125,
   "metadata": {},
   "outputs": [],
   "source": [
    "from sklearn.preprocessing import StandardScaler\n",
    "scaler = StandardScaler()\n",
    "x_train_scaled_data = scaler.fit_transform(x_train)\n",
    "x_test_scaled_data = scaler.transform(x_test)"
   ]
  },
  {
   "cell_type": "code",
   "execution_count": 126,
   "metadata": {},
   "outputs": [
    {
     "data": {
      "text/plain": [
       "40"
      ]
     },
     "execution_count": 126,
     "metadata": {},
     "output_type": "execute_result"
    }
   ],
   "source": [
    "len(x_train_scaled_data)"
   ]
  },
  {
   "cell_type": "code",
   "execution_count": 127,
   "metadata": {},
   "outputs": [
    {
     "data": {
      "text/plain": [
       "array([[ 0.34202149,  0.22787678,  0.12425038,  1.36277029, -0.69388867],\n",
       "       [ 1.36207849, -1.0974737 ,  1.14990688,  1.36277029, -0.69388867],\n",
       "       [-0.71081297, -2.5770186 , -0.34136825, -0.73379939, -0.69388867],\n",
       "       [ 0.90611438,  1.0172367 ,  0.66890185, -0.73379939,  1.44115338],\n",
       "       [ 1.40997088, -0.09115403,  1.30006861, -0.73379939,  1.44115338],\n",
       "       [ 1.20367103,  0.96116332, -0.95248784, -0.73379939, -0.69388867],\n",
       "       [-1.05285826, -1.34392538, -0.62843389,  1.36277029, -0.69388867],\n",
       "       [-1.61480906, -0.19649414,  0.54106768,  1.36277029, -0.69388867],\n",
       "       [-1.642623  ,  0.52691442, -2.07854935, -0.73379939, -0.69388867],\n",
       "       [ 0.77885123,  0.05437051,  0.2294954 , -0.73379939,  1.44115338],\n",
       "       [ 0.96515572, -0.45976843,  0.61043134, -0.73379939, -0.69388867],\n",
       "       [ 0.00687736,  0.01677049,  0.25215324, -0.73379939, -0.69388867],\n",
       "       [-0.01361318, -0.80643974, -0.83912073, -0.73379939,  1.44115338],\n",
       "       [-0.66099544,  1.34830937, -0.2199755 , -0.73379939, -0.69388867],\n",
       "       [-0.34996231,  1.16416226, -1.30074144, -0.73379939,  1.44115338],\n",
       "       [ 1.85350175,  0.58117289,  2.08110569, -0.73379939,  1.44115338],\n",
       "       [-1.17369938,  1.24178366, -1.82872605, -0.73379939, -0.69388867],\n",
       "       [-0.11798808,  0.24795036,  1.03542337, -0.73379939,  1.44115338],\n",
       "       [-0.46926521, -0.66714345, -0.18614397,  1.36277029, -0.69388867],\n",
       "       [ 1.14576723, -0.78676456,  1.12074899, -0.73379939,  1.44115338],\n",
       "       [-0.25546817,  1.17634061, -1.1339251 , -0.73379939,  1.44115338],\n",
       "       [ 0.48597351, -1.08276111,  0.12341374, -0.73379939, -0.69388867],\n",
       "       [-1.03655971,  0.21813196, -0.30524204,  1.36277029, -0.69388867],\n",
       "       [ 1.79532434,  1.11530979,  1.83524249, -0.73379939, -0.69388867],\n",
       "       [ 0.01483507,  1.2036886 ,  0.56419281, -0.73379939,  1.44115338],\n",
       "       [ 1.6017269 , -0.73767194,  1.51815297,  1.36277029, -0.69388867],\n",
       "       [-1.3147716 ,  0.23016091, -1.7652495 , -0.73379939,  1.44115338],\n",
       "       [-0.66970778, -1.33150615, -0.26652879, -0.73379939,  1.44115338],\n",
       "       [-0.21472284, -0.56778295,  0.60855432,  1.36277029, -0.69388867],\n",
       "       [-1.03464471, -0.09579459, -0.55503387, -0.73379939, -0.69388867],\n",
       "       [ 0.51221561, -0.38912928, -0.058069  ,  1.36277029, -0.69388867],\n",
       "       [-0.07809041,  0.06049067,  0.59577454,  1.36277029, -0.69388867],\n",
       "       [ 0.29731084, -0.25700668,  0.52171564,  1.36277029, -0.69388867],\n",
       "       [-1.642623  , -0.15342356, -1.68026474, -0.73379939, -0.69388867],\n",
       "       [-0.03032003, -0.26838639,  0.5547339 , -0.73379939, -0.69388867],\n",
       "       [ 1.11238589,  0.89960352,  0.77702646,  1.36277029, -0.69388867],\n",
       "       [-1.14276186, -0.92048811, -0.77364407, -0.73379939, -0.69388867],\n",
       "       [ 0.89344327,  1.30601677,  0.18308953,  1.36277029, -0.69388867],\n",
       "       [-0.24603715,  2.26873651, -1.03685304,  1.36277029, -0.69388867],\n",
       "       [-1.21489084, -2.03605733, -0.44509263, -0.73379939,  1.44115338]])"
      ]
     },
     "execution_count": 127,
     "metadata": {},
     "output_type": "execute_result"
    }
   ],
   "source": [
    "x_train_scaled_data"
   ]
  },
  {
   "cell_type": "code",
   "execution_count": 128,
   "metadata": {},
   "outputs": [
    {
     "data": {
      "text/plain": [
       "40"
      ]
     },
     "execution_count": 128,
     "metadata": {},
     "output_type": "execute_result"
    }
   ],
   "source": [
    "len(y_train)"
   ]
  },
  {
   "cell_type": "code",
   "execution_count": 129,
   "metadata": {},
   "outputs": [
    {
     "data": {
      "text/plain": [
       "12    141585.52\n",
       "4     166187.94\n",
       "37     89949.14\n",
       "8     152211.77\n",
       "3     182901.99\n",
       "6     156122.51\n",
       "41     77798.83\n",
       "46     49490.75\n",
       "47     42559.73\n",
       "15    129917.04\n",
       "9     149759.96\n",
       "16    126992.93\n",
       "24    108552.04\n",
       "34     96712.80\n",
       "31     97483.56\n",
       "0     192261.83\n",
       "44     65200.33\n",
       "27    105008.31\n",
       "33     96778.92\n",
       "5     156991.12\n",
       "29    101004.64\n",
       "11    144259.40\n",
       "36     90708.19\n",
       "1     191792.06\n",
       "21    111313.02\n",
       "2     191050.39\n",
       "43     69758.98\n",
       "35     96479.51\n",
       "23    108733.99\n",
       "40     78239.91\n",
       "10    146121.95\n",
       "22    110352.25\n",
       "18    124266.90\n",
       "49     14681.40\n",
       "20    118474.03\n",
       "7     155752.60\n",
       "42     71498.49\n",
       "14    132602.65\n",
       "28    103282.38\n",
       "38     81229.06\n",
       "Name: Profit, dtype: float64"
      ]
     },
     "execution_count": 129,
     "metadata": {},
     "output_type": "execute_result"
    }
   ],
   "source": [
    "y_train"
   ]
  },
  {
   "cell_type": "code",
   "execution_count": 133,
   "metadata": {},
   "outputs": [],
   "source": [
    "from sklearn.linear_model import LinearRegression\n",
    "from sklearn.svm import SVR\n",
    "\n",
    "linear = LinearRegression()\n",
    "linear.fit(x_train_scaled_data,y_train)\n",
    "pred_2 = linear.predict(x_test_scaled_data)\n"
   ]
  },
  {
   "cell_type": "code",
   "execution_count": 135,
   "metadata": {},
   "outputs": [
    {
     "name": "stdout",
     "output_type": "stream",
     "text": [
      "0.8987266414319837\n"
     ]
    }
   ],
   "source": [
    "from sklearn.metrics import r2_score\n",
    "print(r2_score(y_test,pred_2))"
   ]
  },
  {
   "cell_type": "code",
   "execution_count": 140,
   "metadata": {},
   "outputs": [
    {
     "name": "stdout",
     "output_type": "stream",
     "text": [
      "                       0\n",
      "126362.879083  134307.35\n",
      "84608.453836    81005.76\n",
      "99677.494252    99937.59\n",
      "46357.460686    64926.08\n",
      "128750.482885  125370.37\n",
      "50912.417419    35673.41\n",
      "109741.350327  105733.54\n",
      "100643.242816  107404.34\n",
      "97599.275746    97427.84\n",
      "113097.425244  122776.86\n"
     ]
    }
   ],
   "source": [
    "print(pd.DataFrame(list(y_test),pred_2))"
   ]
  },
  {
   "cell_type": "code",
   "execution_count": 152,
   "metadata": {},
   "outputs": [],
   "source": [
    "svr = SVR(kernel='linear', gamma='auto')\n",
    "svr.fit(x_train_scaled_data,y_train)\n",
    "pred_3 = svr.predict(x_test_scaled_data)"
   ]
  },
  {
   "cell_type": "code",
   "execution_count": 153,
   "metadata": {},
   "outputs": [
    {
     "name": "stdout",
     "output_type": "stream",
     "text": [
      "-0.17569347992313866\n"
     ]
    }
   ],
   "source": [
    "from sklearn.metrics import r2_score\n",
    "print(r2_score(y_test,pred_3))"
   ]
  },
  {
   "cell_type": "code",
   "execution_count": 154,
   "metadata": {},
   "outputs": [
    {
     "name": "stdout",
     "output_type": "stream",
     "text": [
      "                       0\n",
      "109540.813588  134307.35\n",
      "109476.466040   81005.76\n",
      "109487.644616   99937.59\n",
      "109412.192061   64926.08\n",
      "109546.692535  125370.37\n",
      "109399.281790   35673.41\n",
      "109511.762640  105733.54\n",
      "109495.636972  107404.34\n",
      "109471.637588   97427.84\n",
      "109476.559843  122776.86\n"
     ]
    }
   ],
   "source": [
    "print(pd.DataFrame(list(y_test),pred_3))"
   ]
  },
  {
   "cell_type": "code",
   "execution_count": null,
   "metadata": {},
   "outputs": [],
   "source": [
    "\n"
   ]
  }
 ],
 "metadata": {
  "kernelspec": {
   "display_name": "Python 3",
   "language": "python",
   "name": "python3"
  },
  "language_info": {
   "codemirror_mode": {
    "name": "ipython",
    "version": 3
   },
   "file_extension": ".py",
   "mimetype": "text/x-python",
   "name": "python",
   "nbconvert_exporter": "python",
   "pygments_lexer": "ipython3",
   "version": "3.9.0"
  }
 },
 "nbformat": 4,
 "nbformat_minor": 2
}
